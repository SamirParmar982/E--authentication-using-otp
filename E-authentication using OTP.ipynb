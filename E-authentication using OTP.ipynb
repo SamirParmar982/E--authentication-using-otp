{
 "cells": [
  {
   "cell_type": "code",
   "execution_count": null,
   "id": "4af33a5a",
   "metadata": {},
   "outputs": [],
   "source": [
    "import hmac\n",
    "import hashlib\n",
    "import time\n",
    "import sys\n",
    "import struct\n",
    "\n",
    "shared_secret = str(raw_input(\"Enter Shared Secret Key : \"))\n",
    "pass_len = int(input(\"Enter Pass Length : \"))\n",
    "\n",
    "\"\"\"HyperParameters :)\"\"\"\n",
    "timestep = 30\n",
    "T0 = 0\n",
    "\n",
    "def HOTP(K, C, digits=10):\n",
    "    \"\"\"HTOP:\n",
    "    K is the shared key\n",
    "    C is the counter value\n",
    "    digits control the response length\n",
    "    \"\"\"\n",
    "    K_bytes = K.encode()\n",
    "    C_bytes = struct.pack(\">Q\", C)\n",
    "    hmac_sha512 = hmac.new(key = K_bytes, msg=C_bytes, digestmod=hashlib.sha512).hexdigest()\n",
    "    return Truncate(hmac_sha512)[-digits:]\n",
    "\n",
    "def Truncate(hmac_sha512):\n",
    "    \"\"\"truncate sha512 value\"\"\"\n",
    "    offset = int(hmac_sha512[-1], 16)\n",
    "    binary = int(hmac_sha512[(offset *2):((offset*2)+8)], 16) & 0x7FFFFFFF\n",
    "    return str(binary)\n",
    "\n",
    "def TOTP(K, digits=10, timeref = 0, timestep = 30):\n",
    "    \"\"\"TOTP, time-based variant of HOTP\n",
    "    digits control the response length\n",
    "    the C in HOTP is replaced by ( (currentTime - timeref) / timestep )\n",
    "    \"\"\"\n",
    "    C = int ( time.time() - timeref ) // timestep\n",
    "    return HOTP(K, C, digits = digits)\n",
    "\n",
    "passwd = TOTP(shared_secret, pass_len, T0, timestep).zfill(10)\n",
    "print passwd"
   ]
  }
 ],
 "metadata": {
  "kernelspec": {
   "display_name": "Python 3 (ipykernel)",
   "language": "python",
   "name": "python3"
  },
  "language_info": {
   "codemirror_mode": {
    "name": "ipython",
    "version": 3
   },
   "file_extension": ".py",
   "mimetype": "text/x-python",
   "name": "python",
   "nbconvert_exporter": "python",
   "pygments_lexer": "ipython3",
   "version": "3.9.7"
  }
 },
 "nbformat": 4,
 "nbformat_minor": 5
}
